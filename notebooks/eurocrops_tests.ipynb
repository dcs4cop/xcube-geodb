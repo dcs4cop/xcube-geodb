{
 "cells": [
  {
   "cell_type": "markdown",
   "source": [
    "### Notes:\n",
    "- ingestion of SI dataset did not work straightforwardly: this dataset has 3D-geometry. The geoDB is not yet fit for this. It can easily be adapted, though, by simply dropping the 3rd dimension.\n",
    "- the FR dataset seems broken, it shows weird shapes in QGIS and could not be ingested into the geoDB.\n",
    "- I chose the datasets NRW, Belgium and Austria because of their large sizes\n",
    "- joins over different dataset cannot be easily done with the geoDB, however, the data can be prepared (subset, filtering, ...) in the geoDB and then be finally processed (sum, average, ...) with geopandas."
   ],
   "metadata": {
    "collapsed": false,
    "pycharm": {
     "name": "#%% md\n"
    }
   }
  },
  {
   "cell_type": "code",
   "execution_count": null,
   "metadata": {
    "collapsed": true,
    "pycharm": {
     "name": "#%%\n"
    }
   },
   "outputs": [],
   "source": [
    "from xcube_geodb.core.geodb import GeoDBClient\n",
    "import time\n",
    "\n",
    "with open('credentials.py') as f:\n",
    "    exec(f.read())\n",
    "server_url = 'https://xcube-geodb.stage.brockmann-consult.de'  # this is enough so that geodb-stage database is used\n",
    "server_port = 443\n",
    "auth_domain = 'https://xcube-users.brockmann-consult.de/api/v2'\n",
    "g = GeoDBClient(\n",
    "    server_url=server_url,\n",
    "    server_port=server_port,\n",
    "    client_id=client_id,\n",
    "    client_secret=client_secret,\n",
    "    auth_aud=auth_domain\n",
    ")"
   ]
  },
  {
   "cell_type": "code",
   "execution_count": null,
   "outputs": [],
   "source": [
    "tic = time.perf_counter()\n",
    "srid_nrw = g.get_collection_srid('eurocrops-test-nrw')\n",
    "bbox_nrw = g.get_collection_bbox('eurocrops-test-nrw')\n",
    "srid_be = g.get_collection_srid('BE_VLG_2021_EC21')\n",
    "bbox_be = g.get_collection_bbox('BE_VLG_2021_EC21')\n",
    "srid_at = g.get_collection_srid('AT_2021_EC21')\n",
    "bbox_at = g.get_collection_bbox('AT_2021_EC21')\n",
    "bbox_nrw = g.transform_bbox_crs((bbox_nrw[1], bbox_nrw[0], bbox_nrw[3], bbox_nrw[2]), srid_nrw, 4326)\n",
    "bbox_be = g.transform_bbox_crs((bbox_be[1], bbox_be[0], bbox_be[3], bbox_be[2]), srid_be, 4326)\n",
    "bbox_at = g.transform_bbox_crs((bbox_at[1], bbox_at[0], bbox_at[3], bbox_at[2]), srid_at, 4326)\n",
    "toc = time.perf_counter()\n",
    "print(f\"Computed the bounding boxes of NRW, BE (VLG), AT in WGS84 coords within {toc - tic:0.0f} seconds:\")\n",
    "print(f\"NRW: {bbox_nrw}\")\n",
    "print(f\"BE: {bbox_be}\")\n",
    "print(f\"AT: {bbox_at}\")"
   ],
   "metadata": {
    "collapsed": false,
    "pycharm": {
     "name": "#%%\n"
    }
   }
  },
  {
   "cell_type": "code",
   "execution_count": null,
   "outputs": [],
   "source": [
    "tic = time.perf_counter()\n",
    "df = g.get_collection('eurocrops-test-nrw', query='or=(code.eq.112,code.eq.115)')\n",
    "toc = time.perf_counter()\n",
    "area_acc = df['area_ha'].sum()\n",
    "print(f\"Computed the area growing wheat in NRW (Germany): {area_acc:0.0f} ha, within {toc - tic:0.0f} seconds\")"
   ],
   "metadata": {
    "collapsed": false,
    "pycharm": {
     "name": "#%%\n"
    }
   }
  },
  {
   "cell_type": "code",
   "execution_count": null,
   "outputs": [],
   "source": [
    "tic = time.perf_counter()\n",
    "df = g.get_collection('BE_VLG_2021_EC21', query='or=(gwscod_h.eq.311,gwscod_h.eq.312)')\n",
    "toc = time.perf_counter()\n",
    "area_acc = df['graf_opp'].sum()\n",
    "print(f\"Computed the area growing wheat in Belgium (VLG): {area_acc:0.0f} ha, within {toc - tic:0.0f} seconds\")"
   ],
   "metadata": {
    "collapsed": false,
    "pycharm": {
     "name": "#%%\n"
    }
   }
  },
  {
   "cell_type": "code",
   "execution_count": null,
   "outputs": [],
   "source": [
    "tic = time.perf_counter()\n",
    "df = g.get_collection('AT_2021_EC21', query='or=(snar_code.eq.140,snar_code.eq.168,snar_code.eq.167,snar_code.eq.153,snar_code.eq.529,snar_code.eq.119,snar_code.eq.169,snar_code.eq.138,snar_code.eq.166,snar_code.eq.164,snar_code.eq.165,snar_code.eq.161,snar_code.eq.160,snar_code.eq.170,snar_code.eq.137)')\n",
    "toc = time.perf_counter()\n",
    "area_acc = df['sl_flaeche'].sum()\n",
    "print(f\"Computed the area growing all kinds of wheat in Austria: {area_acc:0.0f} ha, within {toc - tic:0.0f} seconds\")"
   ],
   "metadata": {
    "collapsed": false,
    "pycharm": {
     "name": "#%%\n"
    }
   }
  },
  {
   "cell_type": "code",
   "execution_count": null,
   "outputs": [],
   "source": [
    "tic = time.perf_counter()\n",
    "df = g.get_collection('AT_2021_EC21', query='and=(or(snar_code.eq.140,snar_code.eq.168,snar_code.eq.167,snar_code.eq.153,snar_code.eq.529,snar_code.eq.119,snar_code.eq.169,snar_code.eq.138,snar_code.eq.166,snar_code.eq.164,snar_code.eq.165,snar_code.eq.161,snar_code.eq.160,snar_code.eq.170,snar_code.eq.137),sl_flaeche.gt.1)', limit=1000)\n",
    "toc = time.perf_counter()\n",
    "print(f\"Extracted 1000 areas in Austria growing wheat, larger than 1 ha, within {toc - tic:0.0f} seconds\")"
   ],
   "metadata": {
    "collapsed": false,
    "pycharm": {
     "name": "#%%\n"
    }
   }
  },
  {
   "cell_type": "code",
   "execution_count": null,
   "outputs": [],
   "source": [
    "tic = time.perf_counter()\n",
    "df = g.get_collection('eurocrops-test-nrw', query='and=(code.eq.311,area_ha.gt.1)', limit=1000)\n",
    "toc = time.perf_counter()\n",
    "print(f\"Extracted 1000 areas in NRW growing wheat, larger than 1 ha, within {toc - tic:0.0f} seconds\")"
   ],
   "metadata": {
    "collapsed": false,
    "pycharm": {
     "name": "#%%\n"
    }
   }
  },
  {
   "cell_type": "code",
   "execution_count": null,
   "outputs": [],
   "source": [
    "tic = time.perf_counter()\n",
    "df = g.get_collection('BE_VLG_2021_EC21', query='and=(or(gwscod_h.eq.311,gwscod_h.eq.312),graf_opp.gt.1)', limit=1000)\n",
    "toc = time.perf_counter()\n",
    "print(f\"Extracted 1000 areas in Belgium (VLG) growing wheat, larger than 1 ha, within {toc - tic:0.0f} seconds\")"
   ],
   "metadata": {
    "collapsed": false,
    "pycharm": {
     "name": "#%%\n"
    }
   }
  }
 ],
 "metadata": {
  "kernelspec": {
   "display_name": "Python 3",
   "language": "python",
   "name": "python3"
  },
  "language_info": {
   "codemirror_mode": {
    "name": "ipython",
    "version": 2
   },
   "file_extension": ".py",
   "mimetype": "text/x-python",
   "name": "python",
   "nbconvert_exporter": "python",
   "pygments_lexer": "ipython2",
   "version": "2.7.6"
  }
 },
 "nbformat": 4,
 "nbformat_minor": 0
}